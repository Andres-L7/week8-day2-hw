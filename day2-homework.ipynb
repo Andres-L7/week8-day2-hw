{
 "cells": [
  {
   "cell_type": "markdown",
   "metadata": {},
   "source": [
    "### Homework Excersise #1 - Find the Mean for the Red Sox <br>\n",
    "<p>Get total number of home runs and rbi's</p>"
   ]
  },
  {
   "cell_type": "code",
   "execution_count": 6,
   "metadata": {},
   "outputs": [
    {
     "name": "stdout",
     "output_type": "stream",
     "text": [
      "       HR  RBI\n",
      "Team          \n",
      "BOS   168  735\n",
      "       HR  RBI\n",
      "Team          \n",
      "BOS   208  826\n"
     ]
    }
   ],
   "source": [
    "import numpy as np\n",
    "import pandas as pd\n",
    "\n",
    "# step 1: Add a new column with the key 'Team' and all column values should be = 'BOS'\n",
    "\n",
    "# step 2: Group by the 'Team' column and get total home runs and rbi's\n",
    "\n",
    "# Produce data for both 2017 and 2018\n",
    "\n",
    "\"\"\"\n",
    "TEAM    HR   RBI\n",
    "----------------\n",
    "BOS     144  538\n",
    "\"\"\"\n",
    "\n",
    "bos17 = pd.read_csv('../files/redsox_2017_hitting.txt', sep = ',')\n",
    "bos18 = pd.read_csv('../files/redsox_2018_hitting.txt', sep = ',')\n",
    "\n",
    "bos17['Team'] = 'BOS'\n",
    "bos18['Team'] = 'BOS'\n",
    "\n",
    "print(bos17[['Team','HR','RBI']].groupby('Team').sum())\n",
    "print(bos18[['Team','HR','RBI']].groupby('Team').sum())\n"
   ]
  },
  {
   "cell_type": "markdown",
   "metadata": {},
   "source": [
    "## Exercise #2 Find the average age of runners in the 2017 Boston Marathon"
   ]
  },
  {
   "cell_type": "code",
   "execution_count": 8,
   "metadata": {},
   "outputs": [
    {
     "data": {
      "text/plain": [
       "42.587731919727375"
      ]
     },
     "execution_count": 8,
     "metadata": {},
     "output_type": "execute_result"
    }
   ],
   "source": [
    "marathon = pd.read_csv('../files/boston_marathon2017_edited.csv', sep = ',')\n",
    "marathon['Age'].mean()"
   ]
  }
 ],
 "metadata": {
  "kernelspec": {
   "display_name": "Python 3",
   "language": "python",
   "name": "python3"
  },
  "language_info": {
   "codemirror_mode": {
    "name": "ipython",
    "version": 3
   },
   "file_extension": ".py",
   "mimetype": "text/x-python",
   "name": "python",
   "nbconvert_exporter": "python",
   "pygments_lexer": "ipython3",
   "version": "3.8.5"
  }
 },
 "nbformat": 4,
 "nbformat_minor": 4
}
